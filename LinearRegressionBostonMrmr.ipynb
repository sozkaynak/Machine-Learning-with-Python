{
  "nbformat": 4,
  "nbformat_minor": 0,
  "metadata": {
    "colab": {
      "name": "LinearRegressionBostonMrmr.ipynb",
      "version": "0.3.2",
      "provenance": [],
      "collapsed_sections": [],
      "include_colab_link": true
    },
    "kernelspec": {
      "name": "python3",
      "display_name": "Python 3"
    }
  },
  "cells": [
    {
      "cell_type": "markdown",
      "metadata": {
        "id": "view-in-github",
        "colab_type": "text"
      },
      "source": [
        "<a href=\"https://colab.research.google.com/github/sozkaynak/Machine-Learning-with-Python/blob/master/LinearRegressionBostonMrmr.ipynb\" target=\"_parent\"><img src=\"https://colab.research.google.com/assets/colab-badge.svg\" alt=\"Open In Colab\"/></a>"
      ]
    },
    {
      "metadata": {
        "id": "GpxQNT6gFlzN",
        "colab_type": "code",
        "colab": {}
      },
      "cell_type": "code",
      "source": [
        "import numpy as np\n",
        "import matplotlib.pyplot as plt\n",
        "import pandas as pd\n",
        "import sklearn\n",
        "from skfeature.function.information_theoretical_based.MRMR import mrmr\n",
        "from sklearn.datasets import load_boston\n",
        "from sklearn.linear_model import LinearRegression"
      ],
      "execution_count": 0,
      "outputs": []
    },
    {
      "metadata": {
        "id": "EAm_kg_yFwus",
        "colab_type": "code",
        "colab": {}
      },
      "cell_type": "code",
      "source": [
        "boston = load_boston()\n",
        "bos = pd.DataFrame(boston.data)\n",
        "bos.columns = boston.feature_names\n",
        "bos['PRICE'] = boston.target\n"
      ],
      "execution_count": 0,
      "outputs": []
    },
    {
      "metadata": {
        "id": "Y3qVzKfsK0Xh",
        "colab_type": "code",
        "colab": {}
      },
      "cell_type": "code",
      "source": [
        "print(bos.head())\n",
        "print(bos.describe())"
      ],
      "execution_count": 0,
      "outputs": []
    },
    {
      "metadata": {
        "id": "U9J1YbpwLJI_",
        "colab_type": "code",
        "colab": {}
      },
      "cell_type": "code",
      "source": [
        "X = bos.drop('PRICE', axis = 1).values\n",
        "y = bos['PRICE']"
      ],
      "execution_count": 0,
      "outputs": []
    },
    {
      "metadata": {
        "id": "YLiS2J8GRg1p",
        "colab_type": "code",
        "colab": {}
      },
      "cell_type": "code",
      "source": [
        "k=X.shape[1]\n",
        "for i in range(1,k+1):\n",
        "  kwargs_u={\"n_selected_features\":i}\n",
        "  X1= mrmr(X,Y, **kwargs_u)\n",
        "  X2=X1[0][:][:]\n",
        "  x=boston.data[:,X2]\n",
        "  X_train, X_test, Y_train, Y_test = sklearn.cross_validation.train_test_split(x, y, test_size = 0.33, random_state = 5)\n",
        "  lm = LinearRegression()\n",
        "  lm.fit(X_train, Y_train)\n",
        "\n",
        "  Y_pred = lm.predict(X_test)\n",
        "\n",
        "  plt.scatter(Y_test, Y_pred)\n",
        "  plt.xlabel(\"Prices: $Y_i$\")\n",
        "  plt.ylabel(\"Predicted prices: $\\hat{Y}_i$\")\n",
        "  plt.title(\"Prices vs Predicted prices: $Y_i$ vs $\\hat{Y}_i$\")\n",
        "  \n",
        "  mse = sklearn.metrics.mean_squared_error(Y_test, Y_pred)\n",
        "  print(\"kwargs_u:\",kwargs_u,\"için hata kareleri ortalaması(mse):\",mse)\n"
      ],
      "execution_count": 0,
      "outputs": []
    }
  ]
}