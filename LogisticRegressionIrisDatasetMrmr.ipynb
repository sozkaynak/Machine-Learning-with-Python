{
  "nbformat": 4,
  "nbformat_minor": 0,
  "metadata": {
    "colab": {
      "name": "LogisticRegressionIrisDatasetMrmr.ipynb",
      "version": "0.3.2",
      "provenance": [],
      "collapsed_sections": [],
      "include_colab_link": true
    },
    "kernelspec": {
      "name": "python3",
      "display_name": "Python 3"
    }
  },
  "cells": [
    {
      "cell_type": "markdown",
      "metadata": {
        "id": "view-in-github",
        "colab_type": "text"
      },
      "source": [
        "<a href=\"https://colab.research.google.com/github/sozkaynak/Machine-Learning-with-Python/blob/master/LogisticRegressionIrisDatasetMrmr.ipynb\" target=\"_parent\"><img src=\"https://colab.research.google.com/assets/colab-badge.svg\" alt=\"Open In Colab\"/></a>"
      ]
    },
    {
      "metadata": {
        "id": "EWhDRMKj05ty",
        "colab_type": "code",
        "colab": {}
      },
      "cell_type": "code",
      "source": [
        "import numpy as np\n",
        "import matplotlib.pyplot as plt\n",
        "import pandas as pd\n",
        "from skfeature.function.information_theoretical_based.MRMR import mrmr\n",
        "from sklearn import datasets\n",
        "from sklearn.cross_validation import train_test_split\n",
        "\n"
      ],
      "execution_count": 0,
      "outputs": []
    },
    {
      "metadata": {
        "id": "niWiu0at15YK",
        "colab_type": "code",
        "colab": {}
      },
      "cell_type": "code",
      "source": [
        "iris= datasets.load_iris()\n",
        "X = iris.data[:,:] \n",
        "y = iris.target"
      ],
      "execution_count": 0,
      "outputs": []
    },
    {
      "metadata": {
        "id": "1C0PRhX3a7-3",
        "colab_type": "code",
        "colab": {}
      },
      "cell_type": "code",
      "source": [
        "k=X.shape[1]\n",
        "for i in range(1,k+1):\n",
        "  kwargs_u={\"n_selected_features\":i}\n",
        "  X1= mrmr(X,y, **kwargs_u)\n",
        "  X2=X1[0][:][:]\n",
        "  x=iris.data[:,X2]\n",
        "  \n",
        "  from sklearn.cross_validation import train_test_split\n",
        "  x_train, x_test,y_train,y_test = train_test_split(x,y,test_size=0.3, random_state=0)\n",
        "  \n",
        "  from sklearn.preprocessing import StandardScaler\n",
        "  sc = StandardScaler()\n",
        "  X_train = sc.fit_transform(x_train)\n",
        "  X_test = sc.transform(x_test)\n",
        "  \n",
        "  from sklearn.linear_model import LogisticRegression\n",
        "  logr = LogisticRegression(random_state=0)\n",
        "  logr.fit(X_train,y_train)\n",
        "  \n",
        "  #Tahmin\n",
        "  y_pred = logr.predict(X_test)\n",
        "  #print(y_pred)\n",
        "  #print(y_test)\n",
        "  \n",
        "  from sklearn.metrics import confusion_matrix\n",
        "  cm = confusion_matrix(y_test,y_pred)\n",
        "  print(\"kwargs_u:\",kwargs_u,\"için karışıklık matrisi(cm):\\n\",cm,\"\\n\")\n",
        "  \n",
        " "
      ],
      "execution_count": 0,
      "outputs": []
    },
    {
      "metadata": {
        "id": "CHhjAbSKc3iO",
        "colab_type": "code",
        "colab": {}
      },
      "cell_type": "code",
      "source": [
        ""
      ],
      "execution_count": 0,
      "outputs": []
    }
  ]
}