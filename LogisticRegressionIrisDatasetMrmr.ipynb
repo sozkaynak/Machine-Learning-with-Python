{
  "nbformat": 4,
  "nbformat_minor": 0,
  "metadata": {
    "colab": {
      "name": "LogisticRegressionIrisDatasetMrmr.ipynb",
      "version": "0.3.2",
      "provenance": [],
      "collapsed_sections": [],
      "include_colab_link": true
    },
    "kernelspec": {
      "name": "python3",
      "display_name": "Python 3"
    }
  },
  "cells": [
    {
      "cell_type": "markdown",
      "metadata": {
        "id": "view-in-github",
        "colab_type": "text"
      },
      "source": [
        "<a href=\"https://colab.research.google.com/github/sozkaynak/Machine-Learning-with-Python/blob/master/LogisticRegressionIrisDatasetMrmr.ipynb\" target=\"_parent\"><img src=\"https://colab.research.google.com/assets/colab-badge.svg\" alt=\"Open In Colab\"/></a>"
      ]
    },
    {
      "metadata": {
        "id": "EWhDRMKj05ty",
        "colab_type": "code",
        "colab": {
          "base_uri": "https://localhost:8080/",
          "height": 71
        },
        "outputId": "3a79e5d4-109e-45af-e09a-7b71df8a28f1"
      },
      "cell_type": "code",
      "source": [
        "import numpy as np\n",
        "import matplotlib.pyplot as plt\n",
        "import pandas as pd\n",
        "from skfeature.function.information_theoretical_based.MRMR import mrmr\n",
        "from sklearn import datasets\n",
        "from sklearn.cross_validation import train_test_split\n",
        "\n"
      ],
      "execution_count": 3,
      "outputs": [
        {
          "output_type": "stream",
          "text": [
            "/usr/local/lib/python3.6/dist-packages/sklearn/cross_validation.py:41: DeprecationWarning: This module was deprecated in version 0.18 in favor of the model_selection module into which all the refactored classes and functions are moved. Also note that the interface of the new CV iterators are different from that of this module. This module will be removed in 0.20.\n",
            "  \"This module will be removed in 0.20.\", DeprecationWarning)\n"
          ],
          "name": "stderr"
        }
      ]
    },
    {
      "metadata": {
        "id": "gQdTcilY6kdr",
        "colab_type": "code",
        "colab": {}
      },
      "cell_type": "code",
      "source": [
        "\"\"\"from google.colab import files\n",
        "uploaded = files.upload()\"\"\""
      ],
      "execution_count": 0,
      "outputs": []
    },
    {
      "metadata": {
        "id": "niWiu0at15YK",
        "colab_type": "code",
        "colab": {}
      },
      "cell_type": "code",
      "source": [
        "iris= datasets.load_iris()\n",
        "X = iris.data[:,:] \n",
        "y = iris.target"
      ],
      "execution_count": 0,
      "outputs": []
    },
    {
      "metadata": {
        "id": "1C0PRhX3a7-3",
        "colab_type": "code",
        "colab": {
          "base_uri": "https://localhost:8080/",
          "height": 51
        },
        "outputId": "fda02078-e452-4bec-c066-54a173c330f0"
      },
      "cell_type": "code",
      "source": [
        "k=X.shape[1]\n",
        "print(k)\n",
        "kSet=list(range(1,k+1))\n",
        "print(kSet)\n",
        "r2_scoreSet=[]\n",
        "for i in kSet:\n",
        "  kwargs_u={\"n_selected_features\":i}\n",
        "  X1= mrmr(X,y, **kwargs_u)\n",
        "  X2=X1[0][:][:]\n",
        "  x=iris.data[:,X2]\n",
        "  \n",
        "  from sklearn.model_selection import train_test_split\n",
        "  x_train, x_test,y_train,y_test = train_test_split(x,y,test_size=0.3, random_state=0)\n",
        "  \n",
        "  from sklearn.preprocessing import StandardScaler\n",
        "  sc = StandardScaler()\n",
        "  X_train = sc.fit_transform(x_train)\n",
        "  X_test = sc.transform(x_test)\n",
        "  \n",
        "  from sklearn.linear_model import LogisticRegression\n",
        "  logr = LogisticRegression(random_state=0)\n",
        "  logr.fit(X_train,y_train)\n",
        "  \n",
        "  #Tahmin\n",
        "  y_pred = logr.predict(X_test)\n",
        "  #print(y_pred)\n",
        "  #print(y_test)\n",
        "  \n",
        "  #for Visualization\n",
        "  from sklearn.metrics import r2_score\n",
        "  r2=r2_score(y_test, y_pred)\n",
        "  \"\"\"print(\"kwargs_u:\",kwargs_u,\"için r2_score:\",r2)\"\"\"\n",
        "  r2_scoreSet.append(r2)\n",
        "\n",
        "  \n",
        " "
      ],
      "execution_count": 12,
      "outputs": [
        {
          "output_type": "stream",
          "text": [
            "4\n",
            "[1, 2, 3, 4]\n"
          ],
          "name": "stdout"
        }
      ]
    },
    {
      "metadata": {
        "id": "CHhjAbSKc3iO",
        "colab_type": "code",
        "colab": {
          "base_uri": "https://localhost:8080/",
          "height": 376
        },
        "outputId": "423d4d6f-a6de-46c8-868a-f59b6cd12cac"
      },
      "cell_type": "code",
      "source": [
        "plt.plot(kSet, r2_scoreSet, label='r2 score')\n",
        "plt.xlabel('feature number')\n",
        "plt.ylabel('r2_score')\n",
        "plt.title(\"Simple Plot\")\n",
        "plt.legend()\n",
        "plt.show()"
      ],
      "execution_count": 13,
      "outputs": [
        {
          "output_type": "display_data",
          "data": {
            "image/png": "[encoded data removed]",
            "text/plain": [
              "<matplotlib.figure.Figure at 0x7fd9ce46c0b8>"
            ]
          },
          "metadata": {
            "tags": []
          }
        }
      ]
    },
    {
      "metadata": {
        "id": "6gRUSYgsnCVq",
        "colab_type": "code",
        "colab": {}
      },
      "cell_type": "code",
      "source": [
        ""
      ],
      "execution_count": 0,
      "outputs": []
    }
  ]
}